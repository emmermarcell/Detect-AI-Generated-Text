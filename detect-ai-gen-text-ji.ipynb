{
 "cells": [
  {
   "cell_type": "markdown",
   "metadata": {},
   "source": [
    "# AI in data science project\n",
    "## Kaggle competition: LLM Detect AI generated text\n",
    "### Ensemble model with simple classifiers\n",
    "\n",
    "Used codes from kaggle: \n",
    "\n",
    "https://www.kaggle.com/code/zulqarnainali/explained-llm-model?fbclid=IwAR24MUE-EWqjAZVU6OTuA982bxC0LxA7F2e3CnDEjFmId8u24ik5fFQmHOg\n",
    "\n",
    "https://www.kaggle.com/code/alexia/kerasnlp-starter-notebook-llm-detect-ai-generate"
   ]
  },
  {
   "cell_type": "code",
   "execution_count": 1,
   "metadata": {
    "_cell_guid": "b1076dfc-b9ad-4769-8c92-a6c4dae69d19",
    "_uuid": "8f2839f25d086af736a60e9eeb907d3b93b6e0e5",
    "execution": {
     "iopub.execute_input": "2024-01-17T20:26:58.916005Z",
     "iopub.status.busy": "2024-01-17T20:26:58.915307Z",
     "iopub.status.idle": "2024-01-17T20:27:10.044820Z",
     "shell.execute_reply": "2024-01-17T20:27:10.043659Z",
     "shell.execute_reply.started": "2024-01-17T20:26:58.915951Z"
    }
   },
   "outputs": [],
   "source": [
    "# Import packages\n",
    "\n",
    "import numpy as np\n",
    "import pandas as pd\n",
    "import os\n",
    "import gc\n",
    "from tokenizers import (\n",
    "    decoders,\n",
    "    models,\n",
    "    normalizers,\n",
    "    pre_tokenizers,\n",
    "    processors,\n",
    "    trainers,\n",
    "    Tokenizer,\n",
    ")\n",
    "from sklearn.feature_extraction.text import TfidfVectorizer\n",
    "from datasets import Dataset\n",
    "from transformers import PreTrainedTokenizerFast\n",
    "from tqdm.auto import tqdm\n",
    "import seaborn as sns\n",
    "import matplotlib.pyplot as plt\n",
    "import sys\n",
    "from sklearn.model_selection import StratifiedKFold\n",
    "from sklearn.metrics import roc_auc_score\n",
    "from lightgbm import LGBMClassifier\n",
    "from catboost import CatBoostClassifier\n",
    "\n",
    "from sklearn.linear_model import SGDClassifier\n",
    "from sklearn.naive_bayes import MultinomialNB\n",
    "from sklearn.model_selection import train_test_split\n",
    "from sklearn.ensemble import RandomForestClassifier, VotingClassifier\n",
    "from sklearn.svm import SVC\n",
    "\n",
    "from sklearn.pipeline import Pipeline"
   ]
  },
  {
   "cell_type": "code",
   "execution_count": 36,
   "metadata": {
    "_cell_guid": "b1076dfc-b9ad-4769-8c92-a6c4dae69d19",
    "_uuid": "8f2839f25d086af736a60e9eeb907d3b93b6e0e5",
    "execution": {
     "iopub.execute_input": "2024-01-17T22:02:57.809552Z",
     "iopub.status.busy": "2024-01-17T22:02:57.809105Z",
     "iopub.status.idle": "2024-01-17T22:02:57.814788Z",
     "shell.execute_reply": "2024-01-17T22:02:57.813526Z",
     "shell.execute_reply.started": "2024-01-17T22:02:57.809520Z"
    }
   },
   "outputs": [],
   "source": [
    "from sklearn.metrics import confusion_matrix\n",
    "\n"
   ]
  },
  {
   "cell_type": "code",
   "execution_count": 2,
   "metadata": {
    "_cell_guid": "b1076dfc-b9ad-4769-8c92-a6c4dae69d19",
    "_uuid": "8f2839f25d086af736a60e9eeb907d3b93b6e0e5",
    "execution": {
     "iopub.execute_input": "2024-01-17T20:27:15.930406Z",
     "iopub.status.busy": "2024-01-17T20:27:15.930013Z",
     "iopub.status.idle": "2024-01-17T20:27:15.941369Z",
     "shell.execute_reply": "2024-01-17T20:27:15.940158Z",
     "shell.execute_reply.started": "2024-01-17T20:27:15.930376Z"
    }
   },
   "outputs": [
    {
     "name": "stdout",
     "output_type": "stream",
     "text": [
      "/kaggle/input/llm-detect-ai-generated-text/sample_submission.csv\n",
      "/kaggle/input/llm-detect-ai-generated-text/train_prompts.csv\n",
      "/kaggle/input/llm-detect-ai-generated-text/test_essays.csv\n",
      "/kaggle/input/llm-detect-ai-generated-text/train_essays.csv\n",
      "/kaggle/input/daigt-v2-train-dataset/train_v2_drcat_02.csv\n"
     ]
    }
   ],
   "source": [
    "# Input data files are available in the read-only \"../input/\" directory\n",
    "# For example, running this (by clicking run or pressing Shift+Enter) will list all files under the input directory\n",
    "\n",
    "for dirname, _, filenames in os.walk('/kaggle/input'):\n",
    "    for filename in filenames:\n",
    "        print(os.path.join(dirname, filename))\n",
    "\n",
    "# You can write up to 20GB to the current directory (/kaggle/working/) that gets preserved as output when you create a version using \"Save & Run All\" \n",
    "# You can also write temporary files to /kaggle/temp/, but they won't be saved outside of the current session"
   ]
  },
  {
   "cell_type": "code",
   "execution_count": 3,
   "metadata": {
    "execution": {
     "iopub.execute_input": "2024-01-17T20:28:08.451231Z",
     "iopub.status.busy": "2024-01-17T20:28:08.450825Z",
     "iopub.status.idle": "2024-01-17T20:28:11.042651Z",
     "shell.execute_reply": "2024-01-17T20:28:11.041430Z",
     "shell.execute_reply.started": "2024-01-17T20:28:08.451201Z"
    }
   },
   "outputs": [],
   "source": [
    "# Import data\n",
    "\n",
    "test = pd.read_csv('/kaggle/input/llm-detect-ai-generated-text/test_essays.csv')\n",
    "sub = pd.read_csv('/kaggle/input/llm-detect-ai-generated-text/sample_submission.csv')\n",
    "org_train = pd.read_csv('/kaggle/input/llm-detect-ai-generated-text/train_essays.csv')\n",
    "train = pd.read_csv(\"/kaggle/input/daigt-v2-train-dataset/train_v2_drcat_02.csv\", sep=',')\n",
    "train_prompts = pd.read_csv('/kaggle/input/llm-detect-ai-generated-text/train_prompts.csv')"
   ]
  },
  {
   "cell_type": "markdown",
   "metadata": {},
   "source": [
    "## Data understanding"
   ]
  },
  {
   "cell_type": "code",
   "execution_count": 4,
   "metadata": {
    "execution": {
     "iopub.execute_input": "2024-01-17T20:28:23.422879Z",
     "iopub.status.busy": "2024-01-17T20:28:23.422491Z",
     "iopub.status.idle": "2024-01-17T20:28:23.476447Z",
     "shell.execute_reply": "2024-01-17T20:28:23.475229Z",
     "shell.execute_reply.started": "2024-01-17T20:28:23.422849Z"
    }
   },
   "outputs": [
    {
     "name": "stdout",
     "output_type": "stream",
     "text": [
      "<class 'pandas.core.frame.DataFrame'>\n",
      "RangeIndex: 2 entries, 0 to 1\n",
      "Data columns (total 4 columns):\n",
      " #   Column        Non-Null Count  Dtype \n",
      "---  ------        --------------  ----- \n",
      " 0   prompt_id     2 non-null      int64 \n",
      " 1   prompt_name   2 non-null      object\n",
      " 2   instructions  2 non-null      object\n",
      " 3   source_text   2 non-null      object\n",
      "dtypes: int64(1), object(3)\n",
      "memory usage: 192.0+ bytes\n",
      "None\n"
     ]
    },
    {
     "data": {
      "text/html": [
       "<div>\n",
       "<style scoped>\n",
       "    .dataframe tbody tr th:only-of-type {\n",
       "        vertical-align: middle;\n",
       "    }\n",
       "\n",
       "    .dataframe tbody tr th {\n",
       "        vertical-align: top;\n",
       "    }\n",
       "\n",
       "    .dataframe thead th {\n",
       "        text-align: right;\n",
       "    }\n",
       "</style>\n",
       "<table border=\"1\" class=\"dataframe\">\n",
       "  <thead>\n",
       "    <tr style=\"text-align: right;\">\n",
       "      <th></th>\n",
       "      <th>prompt_id</th>\n",
       "      <th>prompt_name</th>\n",
       "      <th>instructions</th>\n",
       "      <th>source_text</th>\n",
       "    </tr>\n",
       "  </thead>\n",
       "  <tbody>\n",
       "    <tr>\n",
       "      <th>0</th>\n",
       "      <td>0</td>\n",
       "      <td>Car-free cities</td>\n",
       "      <td>Write an explanatory essay to inform fellow ci...</td>\n",
       "      <td># In German Suburb, Life Goes On Without Cars ...</td>\n",
       "    </tr>\n",
       "    <tr>\n",
       "      <th>1</th>\n",
       "      <td>1</td>\n",
       "      <td>Does the electoral college work?</td>\n",
       "      <td>Write a letter to your state senator in which ...</td>\n",
       "      <td># What Is the Electoral College? by the Office...</td>\n",
       "    </tr>\n",
       "  </tbody>\n",
       "</table>\n",
       "</div>"
      ],
      "text/plain": [
       "   prompt_id                       prompt_name  \\\n",
       "0          0                   Car-free cities   \n",
       "1          1  Does the electoral college work?   \n",
       "\n",
       "                                        instructions  \\\n",
       "0  Write an explanatory essay to inform fellow ci...   \n",
       "1  Write a letter to your state senator in which ...   \n",
       "\n",
       "                                         source_text  \n",
       "0  # In German Suburb, Life Goes On Without Cars ...  \n",
       "1  # What Is the Electoral College? by the Office...  "
      ]
     },
     "execution_count": 4,
     "metadata": {},
     "output_type": "execute_result"
    }
   ],
   "source": [
    "# Train prompts used in the original training dataset\n",
    "print(train_prompts.info())\n",
    "train_prompts.head()"
   ]
  },
  {
   "cell_type": "code",
   "execution_count": 5,
   "metadata": {
    "execution": {
     "iopub.execute_input": "2024-01-17T20:28:32.114778Z",
     "iopub.status.busy": "2024-01-17T20:28:32.114384Z",
     "iopub.status.idle": "2024-01-17T20:28:32.344642Z",
     "shell.execute_reply": "2024-01-17T20:28:32.343542Z",
     "shell.execute_reply.started": "2024-01-17T20:28:32.114746Z"
    }
   },
   "outputs": [
    {
     "data": {
      "text/html": [
       "<div>\n",
       "<style scoped>\n",
       "    .dataframe tbody tr th:only-of-type {\n",
       "        vertical-align: middle;\n",
       "    }\n",
       "\n",
       "    .dataframe tbody tr th {\n",
       "        vertical-align: top;\n",
       "    }\n",
       "\n",
       "    .dataframe thead th {\n",
       "        text-align: right;\n",
       "    }\n",
       "</style>\n",
       "<table border=\"1\" class=\"dataframe\">\n",
       "  <thead>\n",
       "    <tr style=\"text-align: right;\">\n",
       "      <th></th>\n",
       "      <th>id</th>\n",
       "      <th>prompt_id</th>\n",
       "      <th>text</th>\n",
       "      <th>generated</th>\n",
       "    </tr>\n",
       "  </thead>\n",
       "  <tbody>\n",
       "    <tr>\n",
       "      <th>0</th>\n",
       "      <td>0059830c</td>\n",
       "      <td>0</td>\n",
       "      <td>Cars. Cars have been around since they became ...</td>\n",
       "      <td>0</td>\n",
       "    </tr>\n",
       "    <tr>\n",
       "      <th>1</th>\n",
       "      <td>005db917</td>\n",
       "      <td>0</td>\n",
       "      <td>Transportation is a large necessity in most co...</td>\n",
       "      <td>0</td>\n",
       "    </tr>\n",
       "    <tr>\n",
       "      <th>2</th>\n",
       "      <td>008f63e3</td>\n",
       "      <td>0</td>\n",
       "      <td>\"America's love affair with it's vehicles seem...</td>\n",
       "      <td>0</td>\n",
       "    </tr>\n",
       "    <tr>\n",
       "      <th>3</th>\n",
       "      <td>00940276</td>\n",
       "      <td>0</td>\n",
       "      <td>How often do you ride in a car? Do you drive a...</td>\n",
       "      <td>0</td>\n",
       "    </tr>\n",
       "    <tr>\n",
       "      <th>4</th>\n",
       "      <td>00c39458</td>\n",
       "      <td>0</td>\n",
       "      <td>Cars are a wonderful thing. They are perhaps o...</td>\n",
       "      <td>0</td>\n",
       "    </tr>\n",
       "    <tr>\n",
       "      <th>...</th>\n",
       "      <td>...</td>\n",
       "      <td>...</td>\n",
       "      <td>...</td>\n",
       "      <td>...</td>\n",
       "    </tr>\n",
       "    <tr>\n",
       "      <th>1373</th>\n",
       "      <td>fe6ff9a5</td>\n",
       "      <td>1</td>\n",
       "      <td>There has been a fuss about the Elector Colleg...</td>\n",
       "      <td>0</td>\n",
       "    </tr>\n",
       "    <tr>\n",
       "      <th>1374</th>\n",
       "      <td>ff669174</td>\n",
       "      <td>0</td>\n",
       "      <td>Limiting car usage has many advantages. Such a...</td>\n",
       "      <td>0</td>\n",
       "    </tr>\n",
       "    <tr>\n",
       "      <th>1375</th>\n",
       "      <td>ffa247e0</td>\n",
       "      <td>0</td>\n",
       "      <td>There's a new trend that has been developing f...</td>\n",
       "      <td>0</td>\n",
       "    </tr>\n",
       "    <tr>\n",
       "      <th>1376</th>\n",
       "      <td>ffc237e9</td>\n",
       "      <td>0</td>\n",
       "      <td>As we all know cars are a big part of our soci...</td>\n",
       "      <td>0</td>\n",
       "    </tr>\n",
       "    <tr>\n",
       "      <th>1377</th>\n",
       "      <td>ffe1ca0d</td>\n",
       "      <td>0</td>\n",
       "      <td>Cars have been around since the 1800's and hav...</td>\n",
       "      <td>0</td>\n",
       "    </tr>\n",
       "  </tbody>\n",
       "</table>\n",
       "<p>1378 rows × 4 columns</p>\n",
       "</div>"
      ],
      "text/plain": [
       "            id  prompt_id                                               text  \\\n",
       "0     0059830c          0  Cars. Cars have been around since they became ...   \n",
       "1     005db917          0  Transportation is a large necessity in most co...   \n",
       "2     008f63e3          0  \"America's love affair with it's vehicles seem...   \n",
       "3     00940276          0  How often do you ride in a car? Do you drive a...   \n",
       "4     00c39458          0  Cars are a wonderful thing. They are perhaps o...   \n",
       "...        ...        ...                                                ...   \n",
       "1373  fe6ff9a5          1  There has been a fuss about the Elector Colleg...   \n",
       "1374  ff669174          0  Limiting car usage has many advantages. Such a...   \n",
       "1375  ffa247e0          0  There's a new trend that has been developing f...   \n",
       "1376  ffc237e9          0  As we all know cars are a big part of our soci...   \n",
       "1377  ffe1ca0d          0  Cars have been around since the 1800's and hav...   \n",
       "\n",
       "      generated  \n",
       "0             0  \n",
       "1             0  \n",
       "2             0  \n",
       "3             0  \n",
       "4             0  \n",
       "...         ...  \n",
       "1373          0  \n",
       "1374          0  \n",
       "1375          0  \n",
       "1376          0  \n",
       "1377          0  \n",
       "\n",
       "[1378 rows x 4 columns]"
      ]
     },
     "execution_count": 5,
     "metadata": {},
     "output_type": "execute_result"
    }
   ],
   "source": [
    "# Original training dataset essays\n",
    "org_train"
   ]
  },
  {
   "cell_type": "code",
   "execution_count": 6,
   "metadata": {
    "execution": {
     "iopub.execute_input": "2024-01-17T20:28:34.804169Z",
     "iopub.status.busy": "2024-01-17T20:28:34.802960Z",
     "iopub.status.idle": "2024-01-17T20:28:35.150775Z",
     "shell.execute_reply": "2024-01-17T20:28:35.149492Z",
     "shell.execute_reply.started": "2024-01-17T20:28:34.804127Z"
    }
   },
   "outputs": [
    {
     "data": {
      "text/plain": [
       "Text(0.5, 1.0, 'Distribution of Generated Text')"
      ]
     },
     "execution_count": 6,
     "metadata": {},
     "output_type": "execute_result"
    },
    {
     "data": {
      "image/png": "[encoded data removed]",
      "text/plain": [
       "<Figure size 1200x400 with 1 Axes>"
      ]
     },
     "metadata": {},
     "output_type": "display_data"
    }
   ],
   "source": [
    "# Distribution of generated - human written essays\n",
    "f, ax = plt.subplots(figsize=(12, 4))\n",
    "sns.despine()\n",
    "ax = sns.countplot(data=org_train, x=\"generated\")\n",
    "\n",
    "abs_values = org_train['generated'].value_counts().values\n",
    "ax.bar_label(container=ax.containers[0], labels=abs_values)\n",
    "ax.set_title(\"Distribution of Generated Text\")"
   ]
  },
  {
   "cell_type": "code",
   "execution_count": null,
   "metadata": {},
   "outputs": [],
   "source": []
  },
  {
   "cell_type": "markdown",
   "metadata": {},
   "source": [
    "The external dataset: DAIGT V2\n",
    "\n",
    "name: train"
   ]
  },
  {
   "cell_type": "code",
   "execution_count": 7,
   "metadata": {
    "execution": {
     "iopub.execute_input": "2024-01-17T20:28:38.572060Z",
     "iopub.status.busy": "2024-01-17T20:28:38.571424Z",
     "iopub.status.idle": "2024-01-17T20:28:38.586313Z",
     "shell.execute_reply": "2024-01-17T20:28:38.584975Z",
     "shell.execute_reply.started": "2024-01-17T20:28:38.572009Z"
    }
   },
   "outputs": [
    {
     "data": {
      "text/plain": [
       "array(['Phones and driving', 'Car-free cities', 'Summer projects',\n",
       "       '\"A Cowboy Who Rode the Waves\"',\n",
       "       'Mandatory extracurricular activities', 'Exploring Venus',\n",
       "       'Facial action coding system', 'The Face on Mars',\n",
       "       'Community service', 'Grades for extracurricular activities',\n",
       "       'Driverless cars', 'Does the electoral college work?',\n",
       "       'Cell phones at school', 'Distance learning',\n",
       "       'Seeking multiple opinions'], dtype=object)"
      ]
     },
     "execution_count": 7,
     "metadata": {},
     "output_type": "execute_result"
    }
   ],
   "source": [
    "# Different types of prompt names from the external dataset\n",
    "train[\"prompt_name\"].unique()"
   ]
  },
  {
   "cell_type": "code",
   "execution_count": 9,
   "metadata": {
    "execution": {
     "iopub.execute_input": "2024-01-17T20:28:45.062609Z",
     "iopub.status.busy": "2024-01-17T20:28:45.062135Z",
     "iopub.status.idle": "2024-01-17T20:28:45.077604Z",
     "shell.execute_reply": "2024-01-17T20:28:45.076095Z",
     "shell.execute_reply.started": "2024-01-17T20:28:45.062573Z"
    }
   },
   "outputs": [
    {
     "data": {
      "text/html": [
       "<div>\n",
       "<style scoped>\n",
       "    .dataframe tbody tr th:only-of-type {\n",
       "        vertical-align: middle;\n",
       "    }\n",
       "\n",
       "    .dataframe tbody tr th {\n",
       "        vertical-align: top;\n",
       "    }\n",
       "\n",
       "    .dataframe thead th {\n",
       "        text-align: right;\n",
       "    }\n",
       "</style>\n",
       "<table border=\"1\" class=\"dataframe\">\n",
       "  <thead>\n",
       "    <tr style=\"text-align: right;\">\n",
       "      <th></th>\n",
       "      <th>text</th>\n",
       "      <th>label</th>\n",
       "      <th>prompt_name</th>\n",
       "      <th>source</th>\n",
       "      <th>RDizzl3_seven</th>\n",
       "    </tr>\n",
       "  </thead>\n",
       "  <tbody>\n",
       "    <tr>\n",
       "      <th>0</th>\n",
       "      <td>Phones\\n\\nModern humans today are always on th...</td>\n",
       "      <td>0</td>\n",
       "      <td>Phones and driving</td>\n",
       "      <td>persuade_corpus</td>\n",
       "      <td>False</td>\n",
       "    </tr>\n",
       "    <tr>\n",
       "      <th>1</th>\n",
       "      <td>This essay will explain if drivers should or s...</td>\n",
       "      <td>0</td>\n",
       "      <td>Phones and driving</td>\n",
       "      <td>persuade_corpus</td>\n",
       "      <td>False</td>\n",
       "    </tr>\n",
       "    <tr>\n",
       "      <th>2</th>\n",
       "      <td>Driving while the use of cellular devices\\n\\nT...</td>\n",
       "      <td>0</td>\n",
       "      <td>Phones and driving</td>\n",
       "      <td>persuade_corpus</td>\n",
       "      <td>False</td>\n",
       "    </tr>\n",
       "    <tr>\n",
       "      <th>3</th>\n",
       "      <td>Phones &amp; Driving\\n\\nDrivers should not be able...</td>\n",
       "      <td>0</td>\n",
       "      <td>Phones and driving</td>\n",
       "      <td>persuade_corpus</td>\n",
       "      <td>False</td>\n",
       "    </tr>\n",
       "    <tr>\n",
       "      <th>4</th>\n",
       "      <td>Cell Phone Operation While Driving\\n\\nThe abil...</td>\n",
       "      <td>0</td>\n",
       "      <td>Phones and driving</td>\n",
       "      <td>persuade_corpus</td>\n",
       "      <td>False</td>\n",
       "    </tr>\n",
       "  </tbody>\n",
       "</table>\n",
       "</div>"
      ],
      "text/plain": [
       "                                                text  label  \\\n",
       "0  Phones\\n\\nModern humans today are always on th...      0   \n",
       "1  This essay will explain if drivers should or s...      0   \n",
       "2  Driving while the use of cellular devices\\n\\nT...      0   \n",
       "3  Phones & Driving\\n\\nDrivers should not be able...      0   \n",
       "4  Cell Phone Operation While Driving\\n\\nThe abil...      0   \n",
       "\n",
       "          prompt_name           source  RDizzl3_seven  \n",
       "0  Phones and driving  persuade_corpus          False  \n",
       "1  Phones and driving  persuade_corpus          False  \n",
       "2  Phones and driving  persuade_corpus          False  \n",
       "3  Phones and driving  persuade_corpus          False  \n",
       "4  Phones and driving  persuade_corpus          False  "
      ]
     },
     "execution_count": 9,
     "metadata": {},
     "output_type": "execute_result"
    }
   ],
   "source": [
    "# The train dataset\n",
    "train.head()"
   ]
  },
  {
   "cell_type": "code",
   "execution_count": 10,
   "metadata": {
    "execution": {
     "iopub.execute_input": "2024-01-17T20:28:46.643883Z",
     "iopub.status.busy": "2024-01-17T20:28:46.643467Z",
     "iopub.status.idle": "2024-01-17T20:28:46.656382Z",
     "shell.execute_reply": "2024-01-17T20:28:46.654879Z",
     "shell.execute_reply.started": "2024-01-17T20:28:46.643854Z"
    }
   },
   "outputs": [
    {
     "data": {
      "text/html": [
       "<div>\n",
       "<style scoped>\n",
       "    .dataframe tbody tr th:only-of-type {\n",
       "        vertical-align: middle;\n",
       "    }\n",
       "\n",
       "    .dataframe tbody tr th {\n",
       "        vertical-align: top;\n",
       "    }\n",
       "\n",
       "    .dataframe thead th {\n",
       "        text-align: right;\n",
       "    }\n",
       "</style>\n",
       "<table border=\"1\" class=\"dataframe\">\n",
       "  <thead>\n",
       "    <tr style=\"text-align: right;\">\n",
       "      <th></th>\n",
       "      <th>id</th>\n",
       "      <th>prompt_id</th>\n",
       "      <th>text</th>\n",
       "    </tr>\n",
       "  </thead>\n",
       "  <tbody>\n",
       "    <tr>\n",
       "      <th>0</th>\n",
       "      <td>0000aaaa</td>\n",
       "      <td>2</td>\n",
       "      <td>Aaa bbb ccc.</td>\n",
       "    </tr>\n",
       "    <tr>\n",
       "      <th>1</th>\n",
       "      <td>1111bbbb</td>\n",
       "      <td>3</td>\n",
       "      <td>Bbb ccc ddd.</td>\n",
       "    </tr>\n",
       "    <tr>\n",
       "      <th>2</th>\n",
       "      <td>2222cccc</td>\n",
       "      <td>4</td>\n",
       "      <td>CCC ddd eee.</td>\n",
       "    </tr>\n",
       "  </tbody>\n",
       "</table>\n",
       "</div>"
      ],
      "text/plain": [
       "         id  prompt_id          text\n",
       "0  0000aaaa          2  Aaa bbb ccc.\n",
       "1  1111bbbb          3  Bbb ccc ddd.\n",
       "2  2222cccc          4  CCC ddd eee."
      ]
     },
     "execution_count": 10,
     "metadata": {},
     "output_type": "execute_result"
    }
   ],
   "source": [
    "# The test dataframe: only contains 3 examples this time\n",
    "test"
   ]
  },
  {
   "cell_type": "code",
   "execution_count": 11,
   "metadata": {
    "execution": {
     "iopub.execute_input": "2024-01-17T20:28:53.018696Z",
     "iopub.status.busy": "2024-01-17T20:28:53.018273Z",
     "iopub.status.idle": "2024-01-17T20:28:53.030530Z",
     "shell.execute_reply": "2024-01-17T20:28:53.029373Z",
     "shell.execute_reply.started": "2024-01-17T20:28:53.018666Z"
    }
   },
   "outputs": [
    {
     "data": {
      "text/html": [
       "<div>\n",
       "<style scoped>\n",
       "    .dataframe tbody tr th:only-of-type {\n",
       "        vertical-align: middle;\n",
       "    }\n",
       "\n",
       "    .dataframe tbody tr th {\n",
       "        vertical-align: top;\n",
       "    }\n",
       "\n",
       "    .dataframe thead th {\n",
       "        text-align: right;\n",
       "    }\n",
       "</style>\n",
       "<table border=\"1\" class=\"dataframe\">\n",
       "  <thead>\n",
       "    <tr style=\"text-align: right;\">\n",
       "      <th></th>\n",
       "      <th>id</th>\n",
       "      <th>generated</th>\n",
       "    </tr>\n",
       "  </thead>\n",
       "  <tbody>\n",
       "    <tr>\n",
       "      <th>0</th>\n",
       "      <td>0000aaaa</td>\n",
       "      <td>0.1</td>\n",
       "    </tr>\n",
       "    <tr>\n",
       "      <th>1</th>\n",
       "      <td>1111bbbb</td>\n",
       "      <td>0.9</td>\n",
       "    </tr>\n",
       "    <tr>\n",
       "      <th>2</th>\n",
       "      <td>2222cccc</td>\n",
       "      <td>0.4</td>\n",
       "    </tr>\n",
       "  </tbody>\n",
       "</table>\n",
       "</div>"
      ],
      "text/plain": [
       "         id  generated\n",
       "0  0000aaaa        0.1\n",
       "1  1111bbbb        0.9\n",
       "2  2222cccc        0.4"
      ]
     },
     "execution_count": 11,
     "metadata": {},
     "output_type": "execute_result"
    }
   ],
   "source": [
    "# The submission file: format that should be generated at the end\n",
    "sub"
   ]
  },
  {
   "cell_type": "code",
   "execution_count": 18,
   "metadata": {
    "execution": {
     "iopub.execute_input": "2024-01-17T20:35:55.548933Z",
     "iopub.status.busy": "2024-01-17T20:35:55.548537Z",
     "iopub.status.idle": "2024-01-17T20:35:55.882288Z",
     "shell.execute_reply": "2024-01-17T20:35:55.881085Z",
     "shell.execute_reply.started": "2024-01-17T20:35:55.548901Z"
    }
   },
   "outputs": [
    {
     "name": "stdout",
     "output_type": "stream",
     "text": [
      "<class 'pandas.core.frame.DataFrame'>\n",
      "Index: 46246 entries, 0 to 1377\n",
      "Data columns (total 2 columns):\n",
      " #   Column     Non-Null Count  Dtype \n",
      "---  ------     --------------  ----- \n",
      " 0   text       46246 non-null  object\n",
      " 1   generated  46246 non-null  int64 \n",
      "dtypes: int64(1), object(1)\n",
      "memory usage: 1.1+ MB\n"
     ]
    },
    {
     "data": {
      "text/plain": [
       "Text(0.5, 1.0, 'Distribution of Generated Text in all source')"
      ]
     },
     "execution_count": 18,
     "metadata": {},
     "output_type": "execute_result"
    },
    {
     "data": {
      "image/png": "[encoded data removed]",
      "text/plain": [
       "<Figure size 1200x400 with 1 Axes>"
      ]
     },
     "metadata": {},
     "output_type": "display_data"
    }
   ],
   "source": [
    "# From now on, we use the train data for model training and validation. \n",
    "# First, I need to concatenate the original train data and the external train data.\n",
    "# The dataframe should contain the following columns: text, prompt ID, label/generated\n",
    "\n",
    "train.rename(columns = {\"label\":\"generated\"}, inplace=True) # rename the label column to generated as in the original data\n",
    "\n",
    "train_final = pd.concat([train[[\"text\", \"generated\"]], org_train[[\"text\", \"generated\"]]])\n",
    "train_final.info()\n",
    "\n",
    "f, ax = plt.subplots(figsize=(12, 4))\n",
    "sns.despine()\n",
    "ax = sns.countplot(data=train_final,\n",
    "                   x=\"generated\")\n",
    "abs_values = train_final['generated'].value_counts().values\n",
    "ax.bar_label(container=ax.containers[0], labels=abs_values)\n",
    "ax.set_title(\"Distribution of Generated Text in all source\")"
   ]
  },
  {
   "cell_type": "markdown",
   "metadata": {},
   "source": [
    "## Train test split"
   ]
  },
  {
   "cell_type": "code",
   "execution_count": 20,
   "metadata": {
    "execution": {
     "iopub.execute_input": "2024-01-17T20:39:31.709631Z",
     "iopub.status.busy": "2024-01-17T20:39:31.709250Z",
     "iopub.status.idle": "2024-01-17T20:39:31.723485Z",
     "shell.execute_reply": "2024-01-17T20:39:31.722362Z",
     "shell.execute_reply.started": "2024-01-17T20:39:31.709601Z"
    }
   },
   "outputs": [],
   "source": [
    "# Split the dataset into train and test sets\n",
    "X_train, X_test, y_train, y_test = train_test_split(train_final[\"text\"],\n",
    "                                                    train_final[\"generated\"],\n",
    "                                                    test_size=0.33,\n",
    "                                                    random_state=42)"
   ]
  },
  {
   "cell_type": "markdown",
   "metadata": {},
   "source": [
    "## Preprocessing\n",
    "\n",
    "- tokenization\n",
    "- TF-IDF vectorization"
   ]
  },
  {
   "cell_type": "code",
   "execution_count": 21,
   "metadata": {
    "execution": {
     "iopub.execute_input": "2024-01-17T20:55:34.477938Z",
     "iopub.status.busy": "2024-01-17T20:55:34.477473Z",
     "iopub.status.idle": "2024-01-17T20:55:34.483636Z",
     "shell.execute_reply": "2024-01-17T20:55:34.482385Z",
     "shell.execute_reply.started": "2024-01-17T20:55:34.477900Z"
    }
   },
   "outputs": [],
   "source": [
    "# Configuration parameters\n",
    "\n",
    "LOWERCASE = False\n",
    "VOCAB_SIZE = 30522"
   ]
  },
  {
   "cell_type": "code",
   "execution_count": 22,
   "metadata": {
    "execution": {
     "iopub.execute_input": "2024-01-17T20:55:37.940715Z",
     "iopub.status.busy": "2024-01-17T20:55:37.940261Z",
     "iopub.status.idle": "2024-01-17T20:57:24.216712Z",
     "shell.execute_reply": "2024-01-17T20:57:24.215392Z",
     "shell.execute_reply.started": "2024-01-17T20:55:37.940675Z"
    }
   },
   "outputs": [
    {
     "name": "stdout",
     "output_type": "stream",
     "text": [
      "\n",
      "\n",
      "\n"
     ]
    },
    {
     "data": {
      "application/vnd.jupyter.widget-view+json": {
       "model_id": "b8976e09d34247948b86c1104fcc8664",
       "version_major": 2,
       "version_minor": 0
      },
      "text/plain": [
       "  0%|          | 0/30984 [00:00<?, ?it/s]"
      ]
     },
     "metadata": {},
     "output_type": "display_data"
    },
    {
     "data": {
      "application/vnd.jupyter.widget-view+json": {
       "model_id": "cc5542e1f84e4fb5af2722e9e4febace",
       "version_major": 2,
       "version_minor": 0
      },
      "text/plain": [
       "  0%|          | 0/15262 [00:00<?, ?it/s]"
      ]
     },
     "metadata": {},
     "output_type": "display_data"
    }
   ],
   "source": [
    "# Creating Byte-Pair Encoding tokenizer\n",
    "\n",
    "raw_tokenizer = Tokenizer(models.BPE(unk_token=\"[UNK]\"))\n",
    "raw_tokenizer.normalizer = normalizers.Sequence([normalizers.NFC()] + [normalizers.Lowercase()] if LOWERCASE else [])\n",
    "raw_tokenizer.pre_tokenizer = pre_tokenizers.ByteLevel()\n",
    "\n",
    "special_tokens = [\"[UNK]\", \"[PAD]\", \"[CLS]\", \"[SEP]\", \"[MASK]\"]\n",
    "trainer = trainers.BpeTrainer(vocab_size=VOCAB_SIZE, special_tokens=special_tokens)\n",
    "train_dataset = Dataset.from_pandas(pd.DataFrame({'text': X_train, 'generated': y_train}))\n",
    "\n",
    "def train_corp_iter(): \n",
    "    for i in range(0, len(train_dataset), 1000):\n",
    "        yield train_dataset[i : i + 1000][\"text\"]\n",
    "        \n",
    "raw_tokenizer.train_from_iterator(train_corp_iter(), trainer=trainer) # train the tokenizer\n",
    "tokenizer = PreTrainedTokenizerFast( # creating another tokenizer using the trained tokenizer\n",
    "    tokenizer_object=raw_tokenizer,\n",
    "    unk_token=\"[UNK]\",\n",
    "    pad_token=\"[PAD]\",\n",
    "    cls_token=\"[CLS]\",\n",
    "    sep_token=\"[SEP]\",\n",
    "    mask_token=\"[MASK]\",\n",
    ")\n",
    "tokenized_texts_train = [tokenizer.tokenize(text) for text in tqdm(X_train.tolist())]\n",
    "tokenized_texts_test = [tokenizer.tokenize(text) for text in tqdm(X_test.tolist())]\n",
    "\n",
    "\n",
    "#tokenized_texts_test = []\n",
    "#for text in tqdm(test['text'].tolist()):\n",
    "#    tokenized_texts_test.append(tokenizer.tokenize(text))\n",
    "#tokenized_texts_train = []\n",
    "#for text in tqdm(train['text'].tolist()):\n",
    "#    tokenized_texts_train.append(tokenizer.tokenize(text))"
   ]
  },
  {
   "cell_type": "code",
   "execution_count": 23,
   "metadata": {
    "execution": {
     "iopub.execute_input": "2024-01-17T20:58:12.102697Z",
     "iopub.status.busy": "2024-01-17T20:58:12.102293Z",
     "iopub.status.idle": "2024-01-17T20:58:12.112029Z",
     "shell.execute_reply": "2024-01-17T20:58:12.110451Z",
     "shell.execute_reply.started": "2024-01-17T20:58:12.102666Z"
    }
   },
   "outputs": [
    {
     "data": {
      "text/plain": [
       "30984"
      ]
     },
     "execution_count": 23,
     "metadata": {},
     "output_type": "execute_result"
    }
   ],
   "source": [
    "tokenized_texts_train[0][:10]\n",
    "len(tokenized_texts_train)"
   ]
  },
  {
   "cell_type": "code",
   "execution_count": 24,
   "metadata": {
    "execution": {
     "iopub.execute_input": "2024-01-17T20:58:15.443496Z",
     "iopub.status.busy": "2024-01-17T20:58:15.443050Z",
     "iopub.status.idle": "2024-01-17T20:58:15.450551Z",
     "shell.execute_reply": "2024-01-17T20:58:15.449526Z",
     "shell.execute_reply.started": "2024-01-17T20:58:15.443442Z"
    }
   },
   "outputs": [
    {
     "data": {
      "text/plain": [
       "15262"
      ]
     },
     "execution_count": 24,
     "metadata": {},
     "output_type": "execute_result"
    }
   ],
   "source": [
    "len(tokenized_texts_test)"
   ]
  },
  {
   "cell_type": "code",
   "execution_count": 25,
   "metadata": {
    "execution": {
     "iopub.execute_input": "2024-01-17T20:58:17.714471Z",
     "iopub.status.busy": "2024-01-17T20:58:17.714050Z",
     "iopub.status.idle": "2024-01-17T20:58:42.683099Z",
     "shell.execute_reply": "2024-01-17T20:58:42.681850Z",
     "shell.execute_reply.started": "2024-01-17T20:58:17.714437Z"
    }
   },
   "outputs": [],
   "source": [
    "# Convert tokenized texts back to sentences\n",
    "tokenized_texts_train_sentences = [' '.join(tokens) for tokens in tokenized_texts_train]\n",
    "tokenized_texts_test_sentences = [' '.join(tokens) for tokens in tokenized_texts_test]\n",
    "\n",
    "# TF-IDF Vectorization\n",
    "tfidf_vectorizer = TfidfVectorizer()\n",
    "X_train_tfidf = tfidf_vectorizer.fit_transform(tokenized_texts_train_sentences)\n",
    "X_test_tfidf = tfidf_vectorizer.transform(tokenized_texts_test_sentences)"
   ]
  },
  {
   "cell_type": "markdown",
   "metadata": {},
   "source": [
    "## Model training"
   ]
  },
  {
   "cell_type": "code",
   "execution_count": 29,
   "metadata": {
    "execution": {
     "iopub.execute_input": "2024-01-17T21:03:27.866108Z",
     "iopub.status.busy": "2024-01-17T21:03:27.865639Z",
     "iopub.status.idle": "2024-01-17T21:03:27.878978Z",
     "shell.execute_reply": "2024-01-17T21:03:27.877731Z",
     "shell.execute_reply.started": "2024-01-17T21:03:27.866071Z"
    }
   },
   "outputs": [],
   "source": [
    "# classifiers\n",
    "rf_classifier = RandomForestClassifier(n_estimators=100, random_state=42)\n",
    "nb_classifier = MultinomialNB(alpha=0.1)\n",
    "svm_classifier = SVC(kernel='linear', probability=True)  # Note: probability=True for VotingClassifier\n",
    "sgd_classifier= SGDClassifier(max_iter=8000, tol=1e-4, loss=\"modified_huber\") \n",
    "p6={'n_iter': 2500,\n",
    "    'verbose': -1,\n",
    "    'objective': 'cross_entropy',\n",
    "    'metric': 'auc',\n",
    "    'learning_rate': 0.01, \n",
    "    'colsample_bytree': 0.78,\n",
    "    'colsample_bynode': 0.8, \n",
    "    'lambda_l1': 4.562963348932286, \n",
    "    'lambda_l2': 2.97485, \n",
    "    'min_data_in_leaf': 115, \n",
    "    'max_depth': 23, \n",
    "    'max_bin': 898}\n",
    "lgbm_classifier=LGBMClassifier(**p6)\n",
    "cat_classifier=CatBoostClassifier(iterations=2000,\n",
    "                       verbose=0,\n",
    "                       l2_leaf_reg=6.6591278779517808,\n",
    "                       learning_rate=0.1,\n",
    "                       subsample = 0.4,\n",
    "                       allow_const_label=True,loss_function = 'CrossEntropy')\n",
    "\n",
    "\n",
    "ensemble_classifier = VotingClassifier(estimators=[\n",
    "    ('rf', rf_classifier),\n",
    "    ('nb', nb_classifier),\n",
    "    ('svm', svm_classifier),\n",
    "    ('sgd', sgd_classifier),\n",
    "    ('lgbm',lgbm_classifier), \n",
    "    ('cat', cat_classifier)    \n",
    "], voting='soft', n_jobs=1)  # 'soft' for probability voting\n",
    "\n",
    "# pipeline for the ensemble classifier\n",
    "ensemble_pipeline = Pipeline([\n",
    "    ('tfidf', TfidfVectorizer()),\n",
    "    ('ensemble', ensemble_classifier)\n",
    "])"
   ]
  },
  {
   "cell_type": "code",
   "execution_count": 30,
   "metadata": {
    "execution": {
     "iopub.execute_input": "2024-01-17T21:03:32.321142Z",
     "iopub.status.busy": "2024-01-17T21:03:32.320683Z",
     "iopub.status.idle": "2024-01-17T21:56:03.623599Z",
     "shell.execute_reply": "2024-01-17T21:56:03.622438Z",
     "shell.execute_reply.started": "2024-01-17T21:03:32.321102Z"
    }
   },
   "outputs": [
    {
     "name": "stderr",
     "output_type": "stream",
     "text": [
      "/opt/conda/lib/python3.10/site-packages/lightgbm/engine.py:177: UserWarning: Found `n_iter` in params. Will use it instead of argument\n",
      "  _log_warning(f\"Found `{alias}` in params. Will use it instead of argument\")\n"
     ]
    },
    {
     "name": "stdout",
     "output_type": "stream",
     "text": [
      "[LightGBM] [Warning] lambda_l1 is set=4.562963348932286, reg_alpha=0.0 will be ignored. Current value: lambda_l1=4.562963348932286\n",
      "[LightGBM] [Warning] lambda_l2 is set=2.97485, reg_lambda=0.0 will be ignored. Current value: lambda_l2=2.97485\n",
      "[LightGBM] [Warning] min_data_in_leaf is set=115, min_child_samples=20 will be ignored. Current value: min_data_in_leaf=115\n",
      "[LightGBM] [Warning] num_iterations is set=2500, n_iter=2500 will be ignored. Current value: num_iterations=2500\n"
     ]
    },
    {
     "data": {
      "text/html": [
       "<style>#sk-container-id-1 {color: black;background-color: white;}#sk-container-id-1 pre{padding: 0;}#sk-container-id-1 div.sk-toggleable {background-color: white;}#sk-container-id-1 label.sk-toggleable__label {cursor: pointer;display: block;width: 100%;margin-bottom: 0;padding: 0.3em;box-sizing: border-box;text-align: center;}#sk-container-id-1 label.sk-toggleable__label-arrow:before {content: \"▸\";float: left;margin-right: 0.25em;color: #696969;}#sk-container-id-1 label.sk-toggleable__label-arrow:hover:before {color: black;}#sk-container-id-1 div.sk-estimator:hover label.sk-toggleable__label-arrow:before {color: black;}#sk-container-id-1 div.sk-toggleable__content {max-height: 0;max-width: 0;overflow: hidden;text-align: left;background-color: #f0f8ff;}#sk-container-id-1 div.sk-toggleable__content pre {margin: 0.2em;color: black;border-radius: 0.25em;background-color: #f0f8ff;}#sk-container-id-1 input.sk-toggleable__control:checked~div.sk-toggleable__content {max-height: 200px;max-width: 100%;overflow: auto;}#sk-container-id-1 input.sk-toggleable__control:checked~label.sk-toggleable__label-arrow:before {content: \"▾\";}#sk-container-id-1 div.sk-estimator input.sk-toggleable__control:checked~label.sk-toggleable__label {background-color: #d4ebff;}#sk-container-id-1 div.sk-label input.sk-toggleable__control:checked~label.sk-toggleable__label {background-color: #d4ebff;}#sk-container-id-1 input.sk-hidden--visually {border: 0;clip: rect(1px 1px 1px 1px);clip: rect(1px, 1px, 1px, 1px);height: 1px;margin: -1px;overflow: hidden;padding: 0;position: absolute;width: 1px;}#sk-container-id-1 div.sk-estimator {font-family: monospace;background-color: #f0f8ff;border: 1px dotted black;border-radius: 0.25em;box-sizing: border-box;margin-bottom: 0.5em;}#sk-container-id-1 div.sk-estimator:hover {background-color: #d4ebff;}#sk-container-id-1 div.sk-parallel-item::after {content: \"\";width: 100%;border-bottom: 1px solid gray;flex-grow: 1;}#sk-container-id-1 div.sk-label:hover label.sk-toggleable__label {background-color: #d4ebff;}#sk-container-id-1 div.sk-serial::before {content: \"\";position: absolute;border-left: 1px solid gray;box-sizing: border-box;top: 0;bottom: 0;left: 50%;z-index: 0;}#sk-container-id-1 div.sk-serial {display: flex;flex-direction: column;align-items: center;background-color: white;padding-right: 0.2em;padding-left: 0.2em;position: relative;}#sk-container-id-1 div.sk-item {position: relative;z-index: 1;}#sk-container-id-1 div.sk-parallel {display: flex;align-items: stretch;justify-content: center;background-color: white;position: relative;}#sk-container-id-1 div.sk-item::before, #sk-container-id-1 div.sk-parallel-item::before {content: \"\";position: absolute;border-left: 1px solid gray;box-sizing: border-box;top: 0;bottom: 0;left: 50%;z-index: -1;}#sk-container-id-1 div.sk-parallel-item {display: flex;flex-direction: column;z-index: 1;position: relative;background-color: white;}#sk-container-id-1 div.sk-parallel-item:first-child::after {align-self: flex-end;width: 50%;}#sk-container-id-1 div.sk-parallel-item:last-child::after {align-self: flex-start;width: 50%;}#sk-container-id-1 div.sk-parallel-item:only-child::after {width: 0;}#sk-container-id-1 div.sk-dashed-wrapped {border: 1px dashed gray;margin: 0 0.4em 0.5em 0.4em;box-sizing: border-box;padding-bottom: 0.4em;background-color: white;}#sk-container-id-1 div.sk-label label {font-family: monospace;font-weight: bold;display: inline-block;line-height: 1.2em;}#sk-container-id-1 div.sk-label-container {text-align: center;}#sk-container-id-1 div.sk-container {/* jupyter's `normalize.less` sets `[hidden] { display: none; }` but bootstrap.min.css set `[hidden] { display: none !important; }` so we also need the `!important` here to be able to override the default hidden behavior on the sphinx rendered scikit-learn.org. See: https://github.com/scikit-learn/scikit-learn/issues/21755 */display: inline-block !important;position: relative;}#sk-container-id-1 div.sk-text-repr-fallback {display: none;}</style><div id=\"sk-container-id-1\" class=\"sk-top-container\"><div class=\"sk-text-repr-fallback\"><pre>Pipeline(steps=[(&#x27;tfidf&#x27;, TfidfVectorizer()),\n",
       "                (&#x27;ensemble&#x27;,\n",
       "                 VotingClassifier(estimators=[(&#x27;rf&#x27;,\n",
       "                                               RandomForestClassifier(random_state=42)),\n",
       "                                              (&#x27;nb&#x27;, MultinomialNB(alpha=0.1)),\n",
       "                                              (&#x27;svm&#x27;,\n",
       "                                               SVC(kernel=&#x27;linear&#x27;,\n",
       "                                                   probability=True)),\n",
       "                                              (&#x27;sgd&#x27;,\n",
       "                                               SGDClassifier(loss=&#x27;modified_huber&#x27;,\n",
       "                                                             max_iter=8000,\n",
       "                                                             tol=0.0001)),\n",
       "                                              (&#x27;lgbm&#x27;,\n",
       "                                               LGBMClassifier(colsample_bynode=0.8,\n",
       "                                                              colsample_bytree=0.78,\n",
       "                                                              lambda_l1=4.562963348932286,\n",
       "                                                              lambda_l2=2.97485,\n",
       "                                                              learning_rate=0.01,\n",
       "                                                              max_bin=898,\n",
       "                                                              max_depth=23,\n",
       "                                                              metric=&#x27;auc&#x27;,\n",
       "                                                              min_data_in_leaf=115,\n",
       "                                                              n_iter=2500,\n",
       "                                                              objective=&#x27;cross_entropy&#x27;,\n",
       "                                                              verbose=-1)),\n",
       "                                              (&#x27;cat&#x27;,\n",
       "                                               &lt;catboost.core.CatBoostClassifier object at 0x7b0b878ab940&gt;)],\n",
       "                                  n_jobs=1, voting=&#x27;soft&#x27;))])</pre><b>In a Jupyter environment, please rerun this cell to show the HTML representation or trust the notebook. <br />On GitHub, the HTML representation is unable to render, please try loading this page with nbviewer.org.</b></div><div class=\"sk-container\" hidden><div class=\"sk-item sk-dashed-wrapped\"><div class=\"sk-label-container\"><div class=\"sk-label sk-toggleable\"><input class=\"sk-toggleable__control sk-hidden--visually\" id=\"sk-estimator-id-1\" type=\"checkbox\" ><label for=\"sk-estimator-id-1\" class=\"sk-toggleable__label sk-toggleable__label-arrow\">Pipeline</label><div class=\"sk-toggleable__content\"><pre>Pipeline(steps=[(&#x27;tfidf&#x27;, TfidfVectorizer()),\n",
       "                (&#x27;ensemble&#x27;,\n",
       "                 VotingClassifier(estimators=[(&#x27;rf&#x27;,\n",
       "                                               RandomForestClassifier(random_state=42)),\n",
       "                                              (&#x27;nb&#x27;, MultinomialNB(alpha=0.1)),\n",
       "                                              (&#x27;svm&#x27;,\n",
       "                                               SVC(kernel=&#x27;linear&#x27;,\n",
       "                                                   probability=True)),\n",
       "                                              (&#x27;sgd&#x27;,\n",
       "                                               SGDClassifier(loss=&#x27;modified_huber&#x27;,\n",
       "                                                             max_iter=8000,\n",
       "                                                             tol=0.0001)),\n",
       "                                              (&#x27;lgbm&#x27;,\n",
       "                                               LGBMClassifier(colsample_bynode=0.8,\n",
       "                                                              colsample_bytree=0.78,\n",
       "                                                              lambda_l1=4.562963348932286,\n",
       "                                                              lambda_l2=2.97485,\n",
       "                                                              learning_rate=0.01,\n",
       "                                                              max_bin=898,\n",
       "                                                              max_depth=23,\n",
       "                                                              metric=&#x27;auc&#x27;,\n",
       "                                                              min_data_in_leaf=115,\n",
       "                                                              n_iter=2500,\n",
       "                                                              objective=&#x27;cross_entropy&#x27;,\n",
       "                                                              verbose=-1)),\n",
       "                                              (&#x27;cat&#x27;,\n",
       "                                               &lt;catboost.core.CatBoostClassifier object at 0x7b0b878ab940&gt;)],\n",
       "                                  n_jobs=1, voting=&#x27;soft&#x27;))])</pre></div></div></div><div class=\"sk-serial\"><div class=\"sk-item\"><div class=\"sk-estimator sk-toggleable\"><input class=\"sk-toggleable__control sk-hidden--visually\" id=\"sk-estimator-id-2\" type=\"checkbox\" ><label for=\"sk-estimator-id-2\" class=\"sk-toggleable__label sk-toggleable__label-arrow\">TfidfVectorizer</label><div class=\"sk-toggleable__content\"><pre>TfidfVectorizer()</pre></div></div></div><div class=\"sk-item sk-dashed-wrapped\"><div class=\"sk-label-container\"><div class=\"sk-label sk-toggleable\"><input class=\"sk-toggleable__control sk-hidden--visually\" id=\"sk-estimator-id-3\" type=\"checkbox\" ><label for=\"sk-estimator-id-3\" class=\"sk-toggleable__label sk-toggleable__label-arrow\">ensemble: VotingClassifier</label><div class=\"sk-toggleable__content\"><pre>VotingClassifier(estimators=[(&#x27;rf&#x27;, RandomForestClassifier(random_state=42)),\n",
       "                             (&#x27;nb&#x27;, MultinomialNB(alpha=0.1)),\n",
       "                             (&#x27;svm&#x27;, SVC(kernel=&#x27;linear&#x27;, probability=True)),\n",
       "                             (&#x27;sgd&#x27;,\n",
       "                              SGDClassifier(loss=&#x27;modified_huber&#x27;,\n",
       "                                            max_iter=8000, tol=0.0001)),\n",
       "                             (&#x27;lgbm&#x27;,\n",
       "                              LGBMClassifier(colsample_bynode=0.8,\n",
       "                                             colsample_bytree=0.78,\n",
       "                                             lambda_l1=4.562963348932286,\n",
       "                                             lambda_l2=2.97485,\n",
       "                                             learning_rate=0.01, max_bin=898,\n",
       "                                             max_depth=23, metric=&#x27;auc&#x27;,\n",
       "                                             min_data_in_leaf=115, n_iter=2500,\n",
       "                                             objective=&#x27;cross_entropy&#x27;,\n",
       "                                             verbose=-1)),\n",
       "                             (&#x27;cat&#x27;,\n",
       "                              &lt;catboost.core.CatBoostClassifier object at 0x7b0b878ab940&gt;)],\n",
       "                 n_jobs=1, voting=&#x27;soft&#x27;)</pre></div></div></div><div class=\"sk-parallel\"><div class=\"sk-parallel-item\"><div class=\"sk-item\"><div class=\"sk-label-container\"><div class=\"sk-label sk-toggleable\"><label>rf</label></div></div><div class=\"sk-serial\"><div class=\"sk-item\"><div class=\"sk-estimator sk-toggleable\"><input class=\"sk-toggleable__control sk-hidden--visually\" id=\"sk-estimator-id-4\" type=\"checkbox\" ><label for=\"sk-estimator-id-4\" class=\"sk-toggleable__label sk-toggleable__label-arrow\">RandomForestClassifier</label><div class=\"sk-toggleable__content\"><pre>RandomForestClassifier(random_state=42)</pre></div></div></div></div></div></div><div class=\"sk-parallel-item\"><div class=\"sk-item\"><div class=\"sk-label-container\"><div class=\"sk-label sk-toggleable\"><label>nb</label></div></div><div class=\"sk-serial\"><div class=\"sk-item\"><div class=\"sk-estimator sk-toggleable\"><input class=\"sk-toggleable__control sk-hidden--visually\" id=\"sk-estimator-id-5\" type=\"checkbox\" ><label for=\"sk-estimator-id-5\" class=\"sk-toggleable__label sk-toggleable__label-arrow\">MultinomialNB</label><div class=\"sk-toggleable__content\"><pre>MultinomialNB(alpha=0.1)</pre></div></div></div></div></div></div><div class=\"sk-parallel-item\"><div class=\"sk-item\"><div class=\"sk-label-container\"><div class=\"sk-label sk-toggleable\"><label>svm</label></div></div><div class=\"sk-serial\"><div class=\"sk-item\"><div class=\"sk-estimator sk-toggleable\"><input class=\"sk-toggleable__control sk-hidden--visually\" id=\"sk-estimator-id-6\" type=\"checkbox\" ><label for=\"sk-estimator-id-6\" class=\"sk-toggleable__label sk-toggleable__label-arrow\">SVC</label><div class=\"sk-toggleable__content\"><pre>SVC(kernel=&#x27;linear&#x27;, probability=True)</pre></div></div></div></div></div></div><div class=\"sk-parallel-item\"><div class=\"sk-item\"><div class=\"sk-label-container\"><div class=\"sk-label sk-toggleable\"><label>sgd</label></div></div><div class=\"sk-serial\"><div class=\"sk-item\"><div class=\"sk-estimator sk-toggleable\"><input class=\"sk-toggleable__control sk-hidden--visually\" id=\"sk-estimator-id-7\" type=\"checkbox\" ><label for=\"sk-estimator-id-7\" class=\"sk-toggleable__label sk-toggleable__label-arrow\">SGDClassifier</label><div class=\"sk-toggleable__content\"><pre>SGDClassifier(loss=&#x27;modified_huber&#x27;, max_iter=8000, tol=0.0001)</pre></div></div></div></div></div></div><div class=\"sk-parallel-item\"><div class=\"sk-item\"><div class=\"sk-label-container\"><div class=\"sk-label sk-toggleable\"><label>lgbm</label></div></div><div class=\"sk-serial\"><div class=\"sk-item\"><div class=\"sk-estimator sk-toggleable\"><input class=\"sk-toggleable__control sk-hidden--visually\" id=\"sk-estimator-id-8\" type=\"checkbox\" ><label for=\"sk-estimator-id-8\" class=\"sk-toggleable__label sk-toggleable__label-arrow\">LGBMClassifier</label><div class=\"sk-toggleable__content\"><pre>LGBMClassifier(colsample_bynode=0.8, colsample_bytree=0.78,\n",
       "               lambda_l1=4.562963348932286, lambda_l2=2.97485,\n",
       "               learning_rate=0.01, max_bin=898, max_depth=23, metric=&#x27;auc&#x27;,\n",
       "               min_data_in_leaf=115, n_iter=2500, objective=&#x27;cross_entropy&#x27;,\n",
       "               verbose=-1)</pre></div></div></div></div></div></div><div class=\"sk-parallel-item\"><div class=\"sk-item\"><div class=\"sk-label-container\"><div class=\"sk-label sk-toggleable\"><label>cat</label></div></div><div class=\"sk-serial\"><div class=\"sk-item\"><div class=\"sk-estimator sk-toggleable\"><input class=\"sk-toggleable__control sk-hidden--visually\" id=\"sk-estimator-id-9\" type=\"checkbox\" ><label for=\"sk-estimator-id-9\" class=\"sk-toggleable__label sk-toggleable__label-arrow\">CatBoostClassifier</label><div class=\"sk-toggleable__content\"><pre>&lt;catboost.core.CatBoostClassifier object at 0x7b0b878ab940&gt;</pre></div></div></div></div></div></div></div></div></div></div></div></div>"
      ],
      "text/plain": [
       "Pipeline(steps=[('tfidf', TfidfVectorizer()),\n",
       "                ('ensemble',\n",
       "                 VotingClassifier(estimators=[('rf',\n",
       "                                               RandomForestClassifier(random_state=42)),\n",
       "                                              ('nb', MultinomialNB(alpha=0.1)),\n",
       "                                              ('svm',\n",
       "                                               SVC(kernel='linear',\n",
       "                                                   probability=True)),\n",
       "                                              ('sgd',\n",
       "                                               SGDClassifier(loss='modified_huber',\n",
       "                                                             max_iter=8000,\n",
       "                                                             tol=0.0001)),\n",
       "                                              ('lgbm',\n",
       "                                               LGBMClassifier(colsample_bynode=0.8,\n",
       "                                                              colsample_bytree=0.78,\n",
       "                                                              lambda_l1=4.562963348932286,\n",
       "                                                              lambda_l2=2.97485,\n",
       "                                                              learning_rate=0.01,\n",
       "                                                              max_bin=898,\n",
       "                                                              max_depth=23,\n",
       "                                                              metric='auc',\n",
       "                                                              min_data_in_leaf=115,\n",
       "                                                              n_iter=2500,\n",
       "                                                              objective='cross_entropy',\n",
       "                                                              verbose=-1)),\n",
       "                                              ('cat',\n",
       "                                               <catboost.core.CatBoostClassifier object at 0x7b0b878ab940>)],\n",
       "                                  n_jobs=1, voting='soft'))])"
      ]
     },
     "execution_count": 30,
     "metadata": {},
     "output_type": "execute_result"
    }
   ],
   "source": [
    "# train the model\n",
    "ensemble_pipeline.fit(X_train, y_train)"
   ]
  },
  {
   "cell_type": "code",
   "execution_count": 31,
   "metadata": {
    "execution": {
     "iopub.execute_input": "2024-01-17T21:58:08.005600Z",
     "iopub.status.busy": "2024-01-17T21:58:08.005152Z",
     "iopub.status.idle": "2024-01-17T21:59:35.988288Z",
     "shell.execute_reply": "2024-01-17T21:59:35.986622Z",
     "shell.execute_reply.started": "2024-01-17T21:58:08.005565Z"
    }
   },
   "outputs": [],
   "source": [
    "# predictions\n",
    "ensemble_predictions = ensemble_pipeline.predict(X_test)"
   ]
  },
  {
   "cell_type": "code",
   "execution_count": 32,
   "metadata": {
    "execution": {
     "iopub.execute_input": "2024-01-17T22:00:12.658820Z",
     "iopub.status.busy": "2024-01-17T22:00:12.658415Z",
     "iopub.status.idle": "2024-01-17T22:00:12.704518Z",
     "shell.execute_reply": "2024-01-17T22:00:12.703324Z",
     "shell.execute_reply.started": "2024-01-17T22:00:12.658789Z"
    }
   },
   "outputs": [
    {
     "name": "stdout",
     "output_type": "stream",
     "text": [
      "Accuracy: 0.9938409120691915\n",
      "Classification Report:\n",
      "              precision    recall  f1-score   support\n",
      "\n",
      "           0       0.99      1.00      1.00      9548\n",
      "           1       1.00      0.99      0.99      5714\n",
      "\n",
      "    accuracy                           0.99     15262\n",
      "   macro avg       0.99      0.99      0.99     15262\n",
      "weighted avg       0.99      0.99      0.99     15262\n",
      "\n"
     ]
    }
   ],
   "source": [
    "from sklearn.metrics import accuracy_score, classification_report\n",
    "\n",
    "# Evaluate the ensemble model\n",
    "accuracy = accuracy_score(y_test, ensemble_predictions)\n",
    "classification_report_str = classification_report(y_test, ensemble_predictions)\n",
    "\n",
    "print(f'Accuracy: {accuracy}')\n",
    "print('Classification Report:')\n",
    "print(classification_report_str)"
   ]
  },
  {
   "cell_type": "code",
   "execution_count": 33,
   "metadata": {
    "execution": {
     "iopub.execute_input": "2024-01-17T22:00:49.835970Z",
     "iopub.status.busy": "2024-01-17T22:00:49.835530Z",
     "iopub.status.idle": "2024-01-17T22:00:49.844853Z",
     "shell.execute_reply": "2024-01-17T22:00:49.843401Z",
     "shell.execute_reply.started": "2024-01-17T22:00:49.835938Z"
    }
   },
   "outputs": [
    {
     "data": {
      "text/plain": [
       "array([0, 0, 1, ..., 0, 0, 0])"
      ]
     },
     "execution_count": 33,
     "metadata": {},
     "output_type": "execute_result"
    }
   ],
   "source": [
    "ensemble_predictions"
   ]
  },
  {
   "cell_type": "code",
   "execution_count": 37,
   "metadata": {
    "execution": {
     "iopub.execute_input": "2024-01-17T22:03:07.674470Z",
     "iopub.status.busy": "2024-01-17T22:03:07.673280Z",
     "iopub.status.idle": "2024-01-17T22:03:07.995293Z",
     "shell.execute_reply": "2024-01-17T22:03:07.994056Z",
     "shell.execute_reply.started": "2024-01-17T22:03:07.674425Z"
    }
   },
   "outputs": [
    {
     "data": {
      "image/png": "[encoded data removed]",
      "text/plain": [
       "<Figure size 800x600 with 2 Axes>"
      ]
     },
     "metadata": {},
     "output_type": "display_data"
    }
   ],
   "source": [
    "# confusion matrix\n",
    "conf_matrix = confusion_matrix(y_test, ensemble_predictions)\n",
    "\n",
    "plt.figure(figsize=(8, 6))\n",
    "sns.heatmap(conf_matrix, annot=True, fmt='d', cmap='Blues', xticklabels=['Human', 'AI'], yticklabels=['Student', 'AI'])\n",
    "plt.title('Confusion Matrix')\n",
    "plt.xlabel('Predicted Label')\n",
    "plt.ylabel('True Label')\n",
    "plt.show()"
   ]
  }
 ],
 "metadata": {
  "kaggle": {
   "accelerator": "none",
   "dataSources": [
    {
     "databundleVersionId": 6888007,
     "sourceId": 61542,
     "sourceType": "competition"
    },
    {
     "datasetId": 4005256,
     "sourceId": 6977472,
     "sourceType": "datasetVersion"
    }
   ],
   "dockerImageVersionId": 30635,
   "isGpuEnabled": false,
   "isInternetEnabled": true,
   "language": "python",
   "sourceType": "notebook"
  },
  "kernelspec": {
   "display_name": "Python 3 (ipykernel)",
   "language": "python",
   "name": "python3"
  },
  "language_info": {
   "codemirror_mode": {
    "name": "ipython",
    "version": 3
   },
   "file_extension": ".py",
   "mimetype": "text/x-python",
   "name": "python",
   "nbconvert_exporter": "python",
   "pygments_lexer": "ipython3",
   "version": "3.8.18"
  }
 },
 "nbformat": 4,
 "nbformat_minor": 4
}
